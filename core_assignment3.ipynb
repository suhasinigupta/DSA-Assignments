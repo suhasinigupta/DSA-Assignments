{
 "cells": [
  {
   "cell_type": "markdown",
   "id": "b7b19fdc",
   "metadata": {},
   "source": [
    "#### 1. Scenario: A company wants to analyze the sales performance of its products in different regions. They have collected the following data:\n",
    "   Region A: [10, 15, 12, 8, 14]\n",
    "   Region B: [18, 20, 16, 22, 25]\n",
    "   Calculate the mean sales for each region.\n"
   ]
  },
  {
   "cell_type": "code",
   "execution_count": 15,
   "id": "8b55617f",
   "metadata": {},
   "outputs": [],
   "source": [
    "import warnings\n",
    "warnings.filterwarnings(\"ignore\")"
   ]
  },
  {
   "cell_type": "code",
   "execution_count": 2,
   "id": "658ce5e2",
   "metadata": {},
   "outputs": [
    {
     "name": "stdout",
     "output_type": "stream",
     "text": [
      "Mean for RegionA is:  11.8\n",
      "Mean for Region B is:  11.8\n"
     ]
    }
   ],
   "source": [
    "import statistics\n",
    "lst1=[10, 15, 12, 8, 14]\n",
    "lst2=[18, 20, 16, 22, 25]\n",
    "mean1=statistics.mean(lst1)\n",
    "mean2=statistics.mean(lst2) \n",
    "print(\"Mean for RegionA is: \", mean1)\n",
    "print(\"Mean for Region B is: \", mean1)\n"
   ]
  },
  {
   "cell_type": "markdown",
   "id": "8b136a25",
   "metadata": {},
   "source": [
    "#### 2. Scenario: A survey is conducted to measure customer satisfaction on a scale of 1 to 5. The data collected is as follows:\n",
    "   [4, 5, 2, 3, 5, 4, 3, 2, 4, 5]\n",
    "   Calculate the mode of the survey responses.\n"
   ]
  },
  {
   "cell_type": "code",
   "execution_count": 4,
   "id": "01c20119",
   "metadata": {},
   "outputs": [
    {
     "name": "stdout",
     "output_type": "stream",
     "text": [
      "Mode of list3 is:  4\n"
     ]
    }
   ],
   "source": [
    "list3=[4, 5, 2, 3, 5, 4, 3, 2, 4, 5]\n",
    "print(\"Mode of list3 is: \", statistics.mode(list3))"
   ]
  },
  {
   "cell_type": "markdown",
   "id": "0e38bc90",
   "metadata": {},
   "source": [
    "#### 3. Scenario: A company wants to compare the salaries of two departments. The salary data for Department A and Department B are as follows:\n",
    "   Department A: [5000, 6000, 5500, 7000]\n",
    "   Department B: [4500, 5500, 5800, 6000, 5200]\n",
    "   Calculate the median salary for each department.\n"
   ]
  },
  {
   "cell_type": "code",
   "execution_count": 5,
   "id": "81ba0fb3",
   "metadata": {},
   "outputs": [
    {
     "name": "stdout",
     "output_type": "stream",
     "text": [
      " Median Salary for department A is :  5750.0\n",
      " Median Salary for department B is :  5500\n"
     ]
    }
   ],
   "source": [
    "deptA=  [5000, 6000, 5500, 7000]\n",
    "deptB=  [4500, 5500, 5800, 6000, 5200] \n",
    "print(\" Median Salary for department A is : \", statistics.median(deptA))\n",
    "print(\" Median Salary for department B is : \", statistics.median(deptB))"
   ]
  },
  {
   "cell_type": "markdown",
   "id": "5f8360c9",
   "metadata": {},
   "source": [
    "#### 4. Scenario: A data analyst wants to determine the variability in the daily stock prices of a company. The data collected is as follows:\n",
    "   [25.5, 24.8, 26.1, 25.3, 24.9]\n",
    "   Calculate the range of the stock prices.\n"
   ]
  },
  {
   "cell_type": "code",
   "execution_count": 6,
   "id": "e410b84d",
   "metadata": {},
   "outputs": [
    {
     "name": "stdout",
     "output_type": "stream",
     "text": [
      "Range of stock price is:  1.3000000000000007\n"
     ]
    }
   ],
   "source": [
    "data_list=[25.5, 24.8, 26.1, 25.3, 24.9] \n",
    "print(\"Range of stock price is: \", max(data_list)-min(data_list))"
   ]
  },
  {
   "cell_type": "markdown",
   "id": "e8190fe1",
   "metadata": {},
   "source": [
    "#### 5. Scenario: A study is conducted to compare the performance of two different teaching methods. The test scores of the students in each group are as follows:\n",
    "   Group A: [85, 90, 92, 88, 91]\n",
    "   Group B: [82, 88, 90, 86, 87]\n",
    "   Perform a t-test to determine if there is a significant difference in the mean scores between the two groups.\n"
   ]
  },
  {
   "cell_type": "code",
   "execution_count": 10,
   "id": "1baf493d",
   "metadata": {},
   "outputs": [
    {
     "name": "stdout",
     "output_type": "stream",
     "text": [
      "No significant difference between mean scores\n"
     ]
    }
   ],
   "source": [
    "from scipy import stats\n",
    "from scipy.stats import t\n",
    "grpA= [85, 90, 92, 88, 91]\n",
    "grpB=[82, 88, 90, 86, 87] \n",
    "test_statisics, p_val= stats.ttest_ind(grpA, grpB)\n",
    "t_critical= t.ppf(0.975,4)\n",
    "t_critical\n",
    "\n",
    "if t_critical>test_statisics:\n",
    "    print(\"No significant difference between mean scores\")\n",
    "else :\n",
    "    print(\"Significant difference between mean scores\")"
   ]
  },
  {
   "cell_type": "markdown",
   "id": "f5e71701",
   "metadata": {},
   "source": [
    "#### 6. Scenario: A company wants to analyze the relationship between advertising expenditure and sales. The data collected is as follows:\n",
    "   Advertising Expenditure (in thousands): [10, 15, 12, 8, 14]\n",
    "   Sales (in thousands): [25, 30, 28, 20, 26]\n",
    "   Calculate the correlation coefficient between advertising expenditure and sales.\n"
   ]
  },
  {
   "cell_type": "code",
   "execution_count": 15,
   "id": "10a73b00",
   "metadata": {},
   "outputs": [
    {
     "name": "stdout",
     "output_type": "stream",
     "text": [
      "0.8757511375750132\n"
     ]
    }
   ],
   "source": [
    "import numpy as np\n",
    "list1=np.array([10, 15, 12, 8, 14] )\n",
    "list2=np.array( [25, 30, 28, 20, 26] )\n",
    "print(np.corrcoef(list1, list2)[0,1])"
   ]
  },
  {
   "cell_type": "markdown",
   "id": "88723fa8",
   "metadata": {},
   "source": [
    "#### 7. Scenario: A survey is conducted to measure the heights of a group of people. The data collected is as follows:\n",
    "   [160, 170, 165, 155, 175, 180, 170]\n",
    "   Calculate the standard deviation of the heights.\n"
   ]
  },
  {
   "cell_type": "code",
   "execution_count": 18,
   "id": "47908e8b",
   "metadata": {},
   "outputs": [
    {
     "name": "stdout",
     "output_type": "stream",
     "text": [
      "Standard Deviation of heights is: 8.591246929842246\n"
     ]
    }
   ],
   "source": [
    "heights= [160, 170, 165, 155, 175, 180, 170] \n",
    "print(\"Standard Deviation of heights is:\",statistics.stdev(heights))"
   ]
  },
  {
   "cell_type": "markdown",
   "id": "ed28d90f",
   "metadata": {},
   "source": [
    "#### 8. Scenario: A company wants to analyze the relationship between employee tenure and job satisfaction. The data collected is as follows:\n",
    "   Employee Tenure (in years): [2, 3, 5, 4, 6, 2, 4]\n",
    "   Job Satisfaction (on a scale of 1 to 10): [7, 8, 6, 9, 5, 7, 6]\n",
    "   Perform a linear regression analysis to predict job satisfaction based on employee tenure.\n"
   ]
  },
  {
   "cell_type": "code",
   "execution_count": 2,
   "id": "bf8486ba",
   "metadata": {},
   "outputs": [
    {
     "name": "stdout",
     "output_type": "stream",
     "text": [
      "Intercept:  [8.59574468]\n",
      "Coefficient:  [[-0.46808511]]\n"
     ]
    }
   ],
   "source": [
    "import pandas as pd\n",
    "import numpy as np\n",
    "import matplotlib.pyplot as plt\n",
    "from sklearn.linear_model import LinearRegression\n",
    "import statsmodels.api as sm\n",
    "\n",
    "X= pd.DataFrame([2, 3, 5, 4, 6, 2, 4])\n",
    "Y= pd.DataFrame( [7, 8, 6, 9, 5, 7, 6])\n",
    "\n",
    "model=LinearRegression()\n",
    "model.fit(X,Y)\n",
    "print(\"Intercept: \", model.intercept_)\n",
    "print(\"Coefficient: \", model.coef_)\n"
   ]
  },
  {
   "cell_type": "markdown",
   "id": "ba749c2d",
   "metadata": {},
   "source": [
    "#### 9. Scenario: A study is conducted to compare the effectiveness of two different medications. The recovery times of the patients in each group are as follows:\n",
    "   Medication A: [10, 12, 14, 11, 13]\n",
    "   Medication B: [15, 17, 16, 14, 18]\n",
    "   Perform an analysis of variance (ANOVA) to determine if there is a significant difference in the mean recovery times between the two medications.\n"
   ]
  },
  {
   "cell_type": "code",
   "execution_count": 3,
   "id": "a8d2f4f9",
   "metadata": {},
   "outputs": [
    {
     "data": {
      "text/plain": [
       "F_onewayResult(statistic=16.0, pvalue=0.003949772803445326)"
      ]
     },
     "execution_count": 3,
     "metadata": {},
     "output_type": "execute_result"
    }
   ],
   "source": [
    "from scipy import stats\n",
    "medA= [10, 12, 14, 11, 13]\n",
    "medB= [15, 17, 16, 14, 18]\n",
    "result= stats.f_oneway(medA, medB)\n",
    "result"
   ]
  },
  {
   "cell_type": "markdown",
   "id": "9f26df43",
   "metadata": {},
   "source": [
    "As pvalue = 0.003 < 0.05, hence we reject null hypothesis.<br>\n",
    "**Conclusion:** There is a significant difference in the mean recovery times between the two medications."
   ]
  },
  {
   "cell_type": "markdown",
   "id": "ac26b7e5",
   "metadata": {},
   "source": [
    "#### 10. Scenario: A company wants to analyze customer feedback ratings on a scale of 1 to 10. The data collected is\n",
    "\n",
    " as follows:\n",
    "    [8, 9, 7, 6, 8, 10, 9, 8, 7, 8]\n",
    "    Calculate the 75th percentile of the feedback ratings.\n"
   ]
  },
  {
   "cell_type": "code",
   "execution_count": 4,
   "id": "6c59534f",
   "metadata": {},
   "outputs": [
    {
     "name": "stdout",
     "output_type": "stream",
     "text": [
      "75th percentile of data is:  6.0675\n"
     ]
    }
   ],
   "source": [
    "import numpy as np\n",
    "data=[8, 9, 7, 6, 8, 10, 9, 8, 7, 8]\n",
    "print(\"75th percentile of data is: \", np.percentile(data, 0.75))"
   ]
  },
  {
   "cell_type": "markdown",
   "id": "0e3ded96",
   "metadata": {},
   "source": [
    "#### 11. Scenario: A quality control department wants to test the weight consistency of a product. The weights of a sample of products are as follows:\n",
    "    [10.2, 9.8, 10.0, 10.5, 10.3, 10.1]\n",
    "    Perform a hypothesis test to determine if the mean weight differs significantly from 10 grams.\n"
   ]
  },
  {
   "cell_type": "code",
   "execution_count": 7,
   "id": "aae26665",
   "metadata": {},
   "outputs": [
    {
     "name": "stdout",
     "output_type": "stream",
     "text": [
      "Mean of sample is : 10.15\n",
      "Test statistics: 1.657034312216987\n",
      "Critical values at 0.05 significance level is -1.959963984540054 and 1.959963984540054\n"
     ]
    }
   ],
   "source": [
    "## Null Hypothesis: the mean weight does not differs significantly from 10 grams\n",
    "## Alternate Hypothesis: the mean weight differs significantly from 10 grams\n",
    "\n",
    "from scipy.stats import norm\n",
    "\n",
    "sample=[10.2, 9.8, 10.0, 10.5, 10.3, 10.1]\n",
    "mean_sample=np.mean([10.2, 9.8, 10.0, 10.5, 10.3, 10.1])\n",
    "print(\"Mean of sample is :\",mean_sample)\n",
    "mean_wt= 10\n",
    "std_dev=np.std(sample)\n",
    "z_score= (mean_sample-mean_wt)/(std_dev/np.sqrt(len(sample)))\n",
    "print(\"Test statistics:\", z_score)\n",
    "\n",
    "alpha = 0.05\n",
    "z_half_alpha = norm.ppf(1-alpha/2)\n",
    "print(\"Critical values at 0.05 significance level is\",-z_half_alpha,\"and\",z_half_alpha)\n"
   ]
  },
  {
   "cell_type": "markdown",
   "id": "53f09b1f",
   "metadata": {},
   "source": [
    "**Conclusion** As Test_statistics is within the critical range , hence null hypothesis is accepted, mean weight does not differs significantly from 10 grams."
   ]
  },
  {
   "cell_type": "markdown",
   "id": "94171683",
   "metadata": {},
   "source": [
    "#### 12. Scenario: A company wants to analyze the click-through rates of two different website designs. The number of clicks for each design is as follows:\n",
    "    Design A: [100, 120, 110, 90, 95]\n",
    "    Design B: [80, 85, 90, 95, 100]\n",
    "    Perform a chi-square test to determine if there is a significant difference in the click-through rates between the two designs.\n"
   ]
  },
  {
   "cell_type": "code",
   "execution_count": null,
   "id": "a14e0e7e",
   "metadata": {},
   "outputs": [],
   "source": []
  },
  {
   "cell_type": "markdown",
   "id": "628436d5",
   "metadata": {},
   "source": [
    "#### 13. Scenario: A survey is conducted to measure customer satisfaction with a product on a scale of 1 to 10. The data collected is as follows:\n",
    "    [7, 9, 6, 8, 10, 7, 8, 9, 7, 8]\n",
    "    Calculate the 95% confidence interval for the population mean satisfaction score.\n"
   ]
  },
  {
   "cell_type": "code",
   "execution_count": 25,
   "id": "ccdf7354",
   "metadata": {},
   "outputs": [
    {
     "name": "stdout",
     "output_type": "stream",
     "text": [
      "Data Mean:  7.9\n",
      "std_error: 0.3591656999213594\n",
      "Confidence Interval is : 7.196048163672016\n",
      "Confidence Interval is : 8.603951836327985\n"
     ]
    }
   ],
   "source": [
    "from scipy.stats import norm\n",
    "\n",
    "data= [7, 9, 6, 8, 10, 7, 8, 9, 7, 8]\n",
    "data_mean= np.mean(data)\n",
    "\n",
    "print(\"Data Mean: \",data_mean)\n",
    "std=np.std(data)\n",
    "std_error= std/np.sqrt(len(data))\n",
    "print(\"std_error:\", std_error)\n",
    "\n",
    "p1, p2= norm.ppf(0.025), norm.ppf(.975)\n",
    "\n",
    "\n",
    "Interval_1= data_mean+std_error* p1\n",
    "Interval_2= data_mean+std_error* p2\n",
    "\n",
    "print(\"Confidence Interval is :\",Interval_1)\n",
    "print(\"Confidence Interval is :\",Interval_2)\n"
   ]
  },
  {
   "cell_type": "markdown",
   "id": "62415413",
   "metadata": {},
   "source": [
    "#### 14. Scenario: A company wants to analyze the effect of temperature on product performance. The data collected is as follows:\n",
    "    Temperature (in degrees Celsius): [20, 22, 23, 19, 21]\n",
    "    Performance (on a scale of 1 to 10): [8, 7, 9, 6, 8]\n",
    "    Perform a simple linear regression to predict performance based on temperature.\n",
    "\n",
    "\n"
   ]
  },
  {
   "cell_type": "code",
   "execution_count": 9,
   "id": "f49697ea",
   "metadata": {},
   "outputs": [
    {
     "name": "stdout",
     "output_type": "stream",
     "text": [
      "Intercept:  [-2.9]\n",
      "Coefficient:  [[0.5]]\n"
     ]
    }
   ],
   "source": [
    "import pandas as pd\n",
    "import numpy as np\n",
    "import matplotlib.pyplot as plt\n",
    "from sklearn.linear_model import LinearRegression\n",
    "import statsmodels.api as sm\n",
    "\n",
    "X= pd.DataFrame([20, 22, 23, 19, 21])\n",
    "Y= pd.DataFrame( [8, 7, 9, 6, 8])\n",
    "\n",
    "model=LinearRegression()\n",
    "model.fit(X,Y)\n",
    "print(\"Intercept: \", model.intercept_)\n",
    "print(\"Coefficient: \", model.coef_)"
   ]
  },
  {
   "cell_type": "markdown",
   "id": "6f5f636d",
   "metadata": {},
   "source": [
    "#### 15. Scenario: A study is conducted to compare the preferences of two groups of participants. The preferences are measured on a Likert scale from 1 to 5. The data collected is as follows:\n",
    "    Group A: [4, 3, 5, 2, 4]\n",
    "    Group B: [3, 2, 4, 3, 3]\n",
    "    Perform a Mann-Whitney U test to determine if there is a significant difference in the median preferences between the two groups.\n"
   ]
  },
  {
   "cell_type": "markdown",
   "id": "19961a06",
   "metadata": {},
   "source": [
    "#### 16. Scenario: A company wants to analyze the distribution of customer ages. The data collected is as follows:\n",
    "    [25, 30, 35, 40, 45, 50, 55, 60, 65, 70]\n",
    "    Calculate the interquartile range (IQR) of the ages.\n",
    "\n",
    "\n"
   ]
  },
  {
   "cell_type": "code",
   "execution_count": 17,
   "id": "52d459f3",
   "metadata": {},
   "outputs": [
    {
     "name": "stdout",
     "output_type": "stream",
     "text": [
      "Interquartile range (IQR) of the ages 20.0\n"
     ]
    }
   ],
   "source": [
    "data= [25, 30, 35, 40, 45, 50, 55, 60, 65, 70]\n",
    "Q1 = np.percentile(data, 25, interpolation = 'midpoint')\n",
    "Q3 = np.percentile(data, 75, interpolation = 'midpoint')\n",
    "\n",
    "print(\"Interquartile range (IQR) of the ages\", Q3-Q1)\n"
   ]
  },
  {
   "cell_type": "markdown",
   "id": "2b9cdb3c",
   "metadata": {},
   "source": [
    "#### 17. Scenario: A study is conducted to compare the performance of three different machine learning algorithms. The accuracy scores for each algorithm are as follows:\n",
    "    Algorithm A: [0.85, 0.80, 0.82, 0.87, 0.83]\n",
    "    Algorithm B: [0.78, 0.82, 0.84, 0.80, 0.79]\n",
    "    Algorithm C: [0.90, 0.88, 0.89, 0.86, 0.87]\n",
    "    Perform a Kruskal-Wallis test to determine if there is a significant difference in the median accuracy scores between the algorithms."
   ]
  },
  {
   "cell_type": "code",
   "execution_count": null,
   "id": "1f833ca3",
   "metadata": {},
   "outputs": [],
   "source": []
  },
  {
   "cell_type": "markdown",
   "id": "d00ee74e",
   "metadata": {},
   "source": [
    "#### 18. Scenario: A company wants to analyze the effect of price on sales. The data collected is as follows:\n",
    "    Price (in dollars): [10, 15, 12, 8, 14]\n",
    "    Sales: [100, 80, 90, 110, 95]\n",
    "    Perform a simple linear regression to predict\n",
    "\n",
    " sales based on price."
   ]
  },
  {
   "cell_type": "code",
   "execution_count": 8,
   "id": "ef1bda7d",
   "metadata": {},
   "outputs": [
    {
     "name": "stdout",
     "output_type": "stream",
     "text": [
      "Intercept:  [136.37195122]\n",
      "Coefficient:  [[-3.50609756]]\n"
     ]
    }
   ],
   "source": [
    "import pandas as pd\n",
    "import numpy as np\n",
    "import matplotlib.pyplot as plt\n",
    "from sklearn.linear_model import LinearRegression\n",
    "import statsmodels.api as sm\n",
    "\n",
    "X= pd.DataFrame([10, 15, 12, 8, 14])\n",
    "Y= pd.DataFrame( [100, 80, 90, 110, 95])\n",
    "\n",
    "model=LinearRegression()\n",
    "model.fit(X,Y)\n",
    "print(\"Intercept: \", model.intercept_)\n",
    "print(\"Coefficient: \", model.coef_)\n"
   ]
  },
  {
   "cell_type": "markdown",
   "id": "11dc080b",
   "metadata": {},
   "source": [
    "#### 19. Scenario: A survey is conducted to measure the satisfaction levels of customers with a new product. The data collected is as follows:\n",
    "    [7, 8, 9, 6, 8, 7, 9, 7, 8, 7]\n",
    "    Calculate the standard error of the mean satisfaction score.\n"
   ]
  },
  {
   "cell_type": "code",
   "execution_count": 19,
   "id": "aa8a6f80",
   "metadata": {},
   "outputs": [
    {
     "data": {
      "text/plain": [
       "0.30550504633038933"
      ]
     },
     "execution_count": 19,
     "metadata": {},
     "output_type": "execute_result"
    }
   ],
   "source": [
    "import math\n",
    "list1= [7, 8, 9, 6, 8, 7, 9, 7, 8, 7]\n",
    "n= len(list1)\n",
    "std_error= statistics.stdev(list1)/ math.sqrt(n)\n",
    "std_error"
   ]
  },
  {
   "cell_type": "markdown",
   "id": "4c0ed878",
   "metadata": {},
   "source": [
    "#### 20. Scenario: A company wants to analyze the relationship between advertising expenditure and sales. The data collected is as follows:\n",
    "    Advertising Expenditure (in thousands): [10, 15, 12, 8, 14]\n",
    "    Sales (in thousands): [25, 30, 28, 20, 26]\n",
    "    Perform a multiple regression analysis to predict sales based on advertising expenditure.\n"
   ]
  },
  {
   "cell_type": "code",
   "execution_count": 16,
   "id": "24b27202",
   "metadata": {},
   "outputs": [
    {
     "name": "stdout",
     "output_type": "stream",
     "text": [
      "Correlation between Advertising Expenditure and Sales is :  0.8757511375750132\n"
     ]
    },
    {
     "data": {
      "image/png": "[encoded data removed]",
      "text/plain": [
       "<Figure size 640x480 with 1 Axes>"
      ]
     },
     "metadata": {},
     "output_type": "display_data"
    },
    {
     "data": {
      "text/html": [
       "<table class=\"simpletable\">\n",
       "<caption>OLS Regression Results</caption>\n",
       "<tr>\n",
       "  <th>Dep. Variable:</th>            <td>y</td>        <th>  R-squared:         </th> <td>   0.767</td>\n",
       "</tr>\n",
       "<tr>\n",
       "  <th>Model:</th>                   <td>OLS</td>       <th>  Adj. R-squared:    </th> <td>   0.689</td>\n",
       "</tr>\n",
       "<tr>\n",
       "  <th>Method:</th>             <td>Least Squares</td>  <th>  F-statistic:       </th> <td>   9.872</td>\n",
       "</tr>\n",
       "<tr>\n",
       "  <th>Date:</th>             <td>Mon, 10 Jul 2023</td> <th>  Prob (F-statistic):</th>  <td>0.0516</td> \n",
       "</tr>\n",
       "<tr>\n",
       "  <th>Time:</th>                 <td>18:51:34</td>     <th>  Log-Likelihood:    </th> <td> -9.5288</td>\n",
       "</tr>\n",
       "<tr>\n",
       "  <th>No. Observations:</th>      <td>     5</td>      <th>  AIC:               </th> <td>   23.06</td>\n",
       "</tr>\n",
       "<tr>\n",
       "  <th>Df Residuals:</th>          <td>     3</td>      <th>  BIC:               </th> <td>   22.28</td>\n",
       "</tr>\n",
       "<tr>\n",
       "  <th>Df Model:</th>              <td>     1</td>      <th>                     </th>     <td> </td>   \n",
       "</tr>\n",
       "<tr>\n",
       "  <th>Covariance Type:</th>      <td>nonrobust</td>    <th>                     </th>     <td> </td>   \n",
       "</tr>\n",
       "</table>\n",
       "<table class=\"simpletable\">\n",
       "<tr>\n",
       "    <td></td>       <th>coef</th>     <th>std err</th>      <th>t</th>      <th>P>|t|</th>  <th>[0.025</th>    <th>0.975]</th>  \n",
       "</tr>\n",
       "<tr>\n",
       "  <th>const</th> <td>   12.2012</td> <td>    4.429</td> <td>    2.755</td> <td> 0.070</td> <td>   -1.893</td> <td>   26.296</td>\n",
       "</tr>\n",
       "<tr>\n",
       "  <th>x1</th>    <td>    1.1524</td> <td>    0.367</td> <td>    3.142</td> <td> 0.052</td> <td>   -0.015</td> <td>    2.320</td>\n",
       "</tr>\n",
       "</table>\n",
       "<table class=\"simpletable\">\n",
       "<tr>\n",
       "  <th>Omnibus:</th>       <td>   nan</td> <th>  Durbin-Watson:     </th> <td>   1.136</td>\n",
       "</tr>\n",
       "<tr>\n",
       "  <th>Prob(Omnibus):</th> <td>   nan</td> <th>  Jarque-Bera (JB):  </th> <td>   0.546</td>\n",
       "</tr>\n",
       "<tr>\n",
       "  <th>Skew:</th>          <td>-0.267</td> <th>  Prob(JB):          </th> <td>   0.761</td>\n",
       "</tr>\n",
       "<tr>\n",
       "  <th>Kurtosis:</th>      <td> 1.471</td> <th>  Cond. No.          </th> <td>    57.3</td>\n",
       "</tr>\n",
       "</table><br/><br/>Notes:<br/>[1] Standard Errors assume that the covariance matrix of the errors is correctly specified."
      ],
      "text/plain": [
       "<class 'statsmodels.iolib.summary.Summary'>\n",
       "\"\"\"\n",
       "                            OLS Regression Results                            \n",
       "==============================================================================\n",
       "Dep. Variable:                      y   R-squared:                       0.767\n",
       "Model:                            OLS   Adj. R-squared:                  0.689\n",
       "Method:                 Least Squares   F-statistic:                     9.872\n",
       "Date:                Mon, 10 Jul 2023   Prob (F-statistic):             0.0516\n",
       "Time:                        18:51:34   Log-Likelihood:                -9.5288\n",
       "No. Observations:                   5   AIC:                             23.06\n",
       "Df Residuals:                       3   BIC:                             22.28\n",
       "Df Model:                           1                                         \n",
       "Covariance Type:            nonrobust                                         \n",
       "==============================================================================\n",
       "                 coef    std err          t      P>|t|      [0.025      0.975]\n",
       "------------------------------------------------------------------------------\n",
       "const         12.2012      4.429      2.755      0.070      -1.893      26.296\n",
       "x1             1.1524      0.367      3.142      0.052      -0.015       2.320\n",
       "==============================================================================\n",
       "Omnibus:                          nan   Durbin-Watson:                   1.136\n",
       "Prob(Omnibus):                    nan   Jarque-Bera (JB):                0.546\n",
       "Skew:                          -0.267   Prob(JB):                        0.761\n",
       "Kurtosis:                       1.471   Cond. No.                         57.3\n",
       "==============================================================================\n",
       "\n",
       "Notes:\n",
       "[1] Standard Errors assume that the covariance matrix of the errors is correctly specified.\n",
       "\"\"\""
      ]
     },
     "execution_count": 16,
     "metadata": {},
     "output_type": "execute_result"
    }
   ],
   "source": [
    "import pandas as pd\n",
    "import numpy as np\n",
    "import matplotlib.pyplot as plt\n",
    "from sklearn.linear_model import LinearRegression\n",
    "import statsmodels.api as sm\n",
    "\n",
    "X=np.array([10, 15, 12, 8, 14])\n",
    "X_1= sm.add_constant(X)\n",
    "y= np.array([25, 30, 28, 20, 26])\n",
    "\n",
    "print(\"Correlation between Advertising Expenditure and Sales is : \",np.corrcoef(X, y)[0,1])\n",
    "plt.scatter(X,y)\n",
    "plt.show()\n",
    "\n",
    "model=sm.OLS(y,X_1).fit()\n",
    "model.summary()\n",
    "\n",
    "##print(\"Intercept :\",model.intercept_)\n",
    "##print(\"Coefficient: \", model.coef_)"
   ]
  },
  {
   "cell_type": "code",
   "execution_count": null,
   "id": "c6010fcf",
   "metadata": {},
   "outputs": [],
   "source": []
  }
 ],
 "metadata": {
  "kernelspec": {
   "display_name": "Python 3 (ipykernel)",
   "language": "python",
   "name": "python3"
  },
  "language_info": {
   "codemirror_mode": {
    "name": "ipython",
    "version": 3
   },
   "file_extension": ".py",
   "mimetype": "text/x-python",
   "name": "python",
   "nbconvert_exporter": "python",
   "pygments_lexer": "ipython3",
   "version": "3.10.9"
  }
 },
 "nbformat": 4,
 "nbformat_minor": 5
}
