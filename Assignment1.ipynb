{
  "nbformat": 4,
  "nbformat_minor": 0,
  "metadata": {
    "colab": {
      "provenance": []
    },
    "kernelspec": {
      "name": "python3",
      "display_name": "Python 3"
    },
    "language_info": {
      "name": "python"
    }
  },
  "cells": [
    {
      "cell_type": "markdown",
      "source": [
        "\n",
        "💡 **Q1.** Given an array of integers nums and an integer target, return indices of the two numbers such that they add up to target.\n",
        "\n",
        "You may assume that each input would have exactly one solution, and you may not use the same element twice.\n",
        "\n",
        "You can return the answer in any order.\n",
        "\n",
        "**Example:**\n",
        "Input: nums = [2,7,11,15], target = 9\n",
        "Output0 [0,1]\n",
        "\n",
        "**Explanation:** Because nums[0] + nums[1] == 9, we return [0, 1][\n",
        "\n"
      ],
      "metadata": {
        "id": "to2qMQpwElQl"
      }
    },
    {
      "cell_type": "code",
      "source": [
        "from typing import List\n",
        "def find_indices(a:List, t):\n",
        "  d={}\n",
        "  for i in range(len(a)):\n",
        "     if t - a[i] in d:\n",
        "        print([i,d[t-a[i]]])\n",
        "        break \n",
        "     else:\n",
        "        d[a[i]] = i\n",
        "\n",
        "a = [2,7,11,13]\n",
        "t = 9\n",
        "find_indices(a,t)\n"
      ],
      "metadata": {
        "colab": {
          "base_uri": "https://localhost:8080/"
        },
        "id": "tZquiYVSEqxx",
        "outputId": "b5271a40-344c-4ab7-cf68-947ecef8fbb5"
      },
      "execution_count": null,
      "outputs": [
        {
          "output_type": "stream",
          "name": "stdout",
          "text": [
            "[1, 0]\n"
          ]
        }
      ]
    },
    {
      "cell_type": "code",
      "source": [
        "array=[2,3]"
      ],
      "metadata": {
        "id": "qLGF087pRo-5"
      },
      "execution_count": null,
      "outputs": []
    },
    {
      "cell_type": "markdown",
      "source": [
        "\n",
        "💡 **Q2.** Given an integer array nums and an integer val, remove all occurrences of val in nums in-place. The order of the elements may be changed. Then return the number of elements in nums which are not equal to val.\n",
        "\n",
        "Consider the number of elements in nums which are not equal to val be k, to get accepted, you need to do the following things:\n",
        "\n",
        "- Change the array nums such that the first k elements of nums contain the elements which are not equal to val. The remaining elements of nums are not important as well as the size of nums.\n",
        "- Return k.\n",
        "\n",
        "**Example :**\n",
        "Input: nums = [3,2,2,3], val = 3\n",
        "Output: 2, nums = [2,2,_*,_*]\n",
        "\n"
      ],
      "metadata": {
        "id": "5FyTMVDYF61i"
      }
    },
    {
      "cell_type": "code",
      "source": [
        "def removeElement(nums: List[int], val: int) -> int:\n",
        "        count = 0\n",
        "        for i in range(len(nums)):\n",
        "            if nums[i] != val:\n",
        "               \n",
        "                nums[count] = nums[i]\n",
        "                count += 1\n",
        "        return count\n",
        "\n",
        "nums=[3,2,2,3]\n",
        "val = 3\n",
        "removeElement(nums,val)"
      ],
      "metadata": {
        "colab": {
          "base_uri": "https://localhost:8080/"
        },
        "id": "OoC2TcbREsLw",
        "outputId": "dac201eb-552f-453e-a4af-e715b8959672"
      },
      "execution_count": null,
      "outputs": [
        {
          "output_type": "execute_result",
          "data": {
            "text/plain": [
              "2"
            ]
          },
          "metadata": {},
          "execution_count": 6
        }
      ]
    },
    {
      "cell_type": "markdown",
      "source": [
        "\n",
        "💡 **Q3.** Given a sorted array of distinct integers and a target value, return the index if the target is found. If not, return the index where it would be if it were inserted in order.\n",
        "\n",
        "  You must write an algorithm with O(log n) runtime complexity.\n",
        "\n",
        "**Example 1:**\n",
        "Input: nums = [1,3,5,6], target = 5\n",
        "\n",
        "Output: 2\n",
        "\n",
        "|"
      ],
      "metadata": {
        "id": "UQqpyokuHdzd"
      }
    },
    {
      "cell_type": "code",
      "source": [
        "def findIndex(nums:List,target):\n",
        "        low=0\n",
        "        high=len(nums)-1\n",
        "        while(low<=high):\n",
        "          mid=(low+high)//2\n",
        "          if nums[mid]==target:\n",
        "            break\n",
        "          elif nums[mid]< target:\n",
        "            low=mid+1\n",
        "          else:\n",
        "            high= mid-1\n",
        "        return mid\n",
        "nums=[1,3,5,6]\n",
        "target= 5\n",
        "print(findIndex(nums,target))"
      ],
      "metadata": {
        "colab": {
          "base_uri": "https://localhost:8080/"
        },
        "id": "6mVNR6wnEsOZ",
        "outputId": "45b9c602-d252-42da-969a-8e28e7188ed0"
      },
      "execution_count": null,
      "outputs": [
        {
          "output_type": "stream",
          "name": "stdout",
          "text": [
            "2\n"
          ]
        }
      ]
    },
    {
      "cell_type": "markdown",
      "source": [
        "\n",
        "💡 **Q4.** You are given a large integer represented as an integer array digits, where each digits[i] is the ith digit of the integer. The digits are ordered from most significant to least significant in left-to-right order. The large integer does not contain any leading 0's.\n",
        "\n",
        "Increment the large integer by one and return the resulting array of digits.\n",
        "\n",
        "**Example 1:**\n",
        "Input: digits = [1,2,3]\n",
        "Output: [1,2,4]\n",
        "\n",
        "**Explanation:** The array represents the integer 123.\n",
        "\n",
        "Incrementing by one gives 123 + 1 = 124.\n",
        "Thus, the result should be [1,2,4].\n",
        "\n"
      ],
      "metadata": {
        "id": "5Jb3XjvIIowm"
      }
    },
    {
      "cell_type": "code",
      "source": [
        "def plusOne( digits) :\n",
        "  n = len(digits)\n",
        "  for i in range(n - 1, -1, -1):\n",
        "      digits[i] += 1\n",
        "      digits[i] %= 10\n",
        "      if digits[i] != 0:\n",
        "          return digits\n",
        "  return [1] + digits\n",
        "\n",
        "print(plusOne([1,9,9]))"
      ],
      "metadata": {
        "id": "art75QjNlj-m",
        "colab": {
          "base_uri": "https://localhost:8080/"
        },
        "outputId": "0ee4c62b-7e13-47e1-ebd7-0bd6d1575f8c"
      },
      "execution_count": 3,
      "outputs": [
        {
          "output_type": "stream",
          "name": "stdout",
          "text": [
            "[2, 0, 0]\n"
          ]
        }
      ]
    },
    {
      "cell_type": "markdown",
      "source": [
        "\n",
        "💡 **Q5.** You are given two integer arrays nums1 and nums2, sorted in non-decreasing order, and two integers m and n, representing the number of elements in nums1 and nums2 respectively.\n",
        "\n",
        "Merge nums1 and nums2 into a single array sorted in non-decreasing order.\n",
        "\n",
        "The final sorted array should not be returned by the function, but instead be stored inside the array nums1. To accommodate this, nums1 has a length of m + n, where the first m elements denote the elements that should be merged, and the last n elements are set to 0 and should be ignored. nums2 has a length of n.\n",
        "\n",
        "**Example 1:**\n",
        "Input: nums1 = [1,2,3,0,0,0], m = 3, nums2 = [2,5,6], n = 3\n",
        "Output: [1,2,2,3,5,6]\n",
        "\n",
        "**Explanation:** The arrays we are merging are [1,2,3] and [2,5,6].\n",
        "The result of the merge is [1,2,2,3,5,6] with the underlined elements coming from nums1.\n",
        "\n"
      ],
      "metadata": {
        "id": "nzjcOPmCSU8h"
      }
    },
    {
      "cell_type": "code",
      "source": [
        "def merge_array(nums1:List,m,nums2:List,n):\n",
        "  k=m+n-1\n",
        "  i=m-1\n",
        "  j=n-1\n",
        "  while (i>=0 and j>=0):\n",
        "    if(nums1[i]>nums2[j]):\n",
        "      nums1[k]=nums1[i]\n",
        "      i=i-1\n",
        "      k=k-1\n",
        "    else:\n",
        "      nums1[k]=nums2[j]\n",
        "      j=j-1\n",
        "      k=k-1\n",
        "  while (j>=0):\n",
        "    nums1[k]=nums1[j]\n",
        "    k=k-1\n",
        "    j=j-1\n",
        "\n",
        "  return nums1\n",
        "\n",
        "nums1 = [1,2,3,0,0,0]\n",
        "m = 3\n",
        "nums2 = [2,5,6]\n",
        "n = 3\n",
        "print(merge_array(nums1,m,nums2,n))\n"
      ],
      "metadata": {
        "id": "8s12zuW4ScuZ",
        "colab": {
          "base_uri": "https://localhost:8080/"
        },
        "outputId": "9e67d686-9032-4045-9e82-a23e2b60e41c"
      },
      "execution_count": null,
      "outputs": [
        {
          "output_type": "stream",
          "name": "stdout",
          "text": [
            "[1, 2, 2, 3, 5, 6]\n"
          ]
        }
      ]
    },
    {
      "cell_type": "markdown",
      "source": [
        "\n",
        "💡 **Q6.** Given an integer array nums, return true if any value appears at least twice in the array, and return false if every element is distinct.\n",
        "\n",
        "**Example 1:**\n",
        "Input: nums = [1,2,3,1]\n",
        "\n",
        "Output: true\n",
        "\n"
      ],
      "metadata": {
        "id": "O1KPDk1ZJCq5"
      }
    },
    {
      "cell_type": "code",
      "source": [
        "def findDistinct(nums):\n",
        "  flag= True\n",
        "  if len(set(nums))==len(nums):\n",
        "    flag=False\n",
        "  return flag\n",
        "\n",
        "nums = [1,2,3,1]\n",
        "print(findDistinct(nums))\n"
      ],
      "metadata": {
        "colab": {
          "base_uri": "https://localhost:8080/"
        },
        "id": "lEG3wFQSEsTQ",
        "outputId": "64a90010-a24c-497e-d638-59245e608035"
      },
      "execution_count": null,
      "outputs": [
        {
          "output_type": "stream",
          "name": "stdout",
          "text": [
            "True\n"
          ]
        }
      ]
    },
    {
      "cell_type": "markdown",
      "source": [
        "\n",
        "💡 **Q7.** Given an integer array nums, move all 0's to the end of it while maintaining the relative order of the nonzero elements.\n",
        "\n",
        "Note that you must do this in-place without making a copy of the array.\n",
        "\n",
        "**Example 1:**\n",
        "Input: nums = [0,1,0,3,12]\n",
        "Output: [1,3,12,0,0]\n",
        "\n"
      ],
      "metadata": {
        "id": "U3FkluJiLx_K"
      }
    },
    {
      "cell_type": "code",
      "source": [
        "def move_zeros(num):\n",
        "  count=0\n",
        "  n=len(num)\n",
        "  for i in range(n):\n",
        "    if num[i] !=0 :\n",
        "      num[count]=num[i]\n",
        "      count=count+1\n",
        "  while (count<n):\n",
        "    num[count]=0\n",
        "    count=count+1\n",
        "  return num\n",
        "print(move_zeros([0,1,0,3,12]))\n"
      ],
      "metadata": {
        "colab": {
          "base_uri": "https://localhost:8080/"
        },
        "id": "eh8VR-IAEsW3",
        "outputId": "953f9996-65b6-46b2-cf44-f718778a4ac4"
      },
      "execution_count": null,
      "outputs": [
        {
          "output_type": "stream",
          "name": "stdout",
          "text": [
            "[1, 3, 12, 0, 0]\n"
          ]
        }
      ]
    },
    {
      "cell_type": "markdown",
      "source": [
        "\n",
        "💡 **Q8.** You have a set of integers s, which originally contains all the numbers from 1 to n. Unfortunately, due to some error, one of the numbers in s got duplicated to another number in the set, which results in repetition of one number and loss of another number.\n",
        "\n",
        "You are given an integer array nums representing the data status of this set after the error.\n",
        "\n",
        "Find the number that occurs twice and the number that is missing and return them in the form of an array.\n",
        "\n",
        "**Example 1:**\n",
        "Input: nums = [1,2,2,4]\n",
        "Output: [2,3]\n"
      ],
      "metadata": {
        "id": "CuEAXAVFOFJn"
      }
    },
    {
      "cell_type": "code",
      "source": [
        "a = [1,2,2,4]\n",
        "d = {}\n",
        "temp = 0\n",
        "for i in a:\n",
        "    if i in d:\n",
        "        temp = i\n",
        "        break\n",
        "    d[i] = 1\n",
        "n = len(a)\n",
        "dif = (n*(n+1)//2) - sum(a)\n",
        "mis = dif + temp\n",
        "print([temp,mis])"
      ],
      "metadata": {
        "colab": {
          "base_uri": "https://localhost:8080/"
        },
        "id": "SD78NU51OBPi",
        "outputId": "910049f2-78e8-49cd-b64e-5e816dfa76d8"
      },
      "execution_count": null,
      "outputs": [
        {
          "output_type": "stream",
          "name": "stdout",
          "text": [
            "[2, 3]\n"
          ]
        }
      ]
    },
    {
      "cell_type": "code",
      "source": [],
      "metadata": {
        "id": "QVELOHYrSRhL"
      },
      "execution_count": null,
      "outputs": []
    }
  ]
}