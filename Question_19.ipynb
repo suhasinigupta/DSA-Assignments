{
 "cells": [
  {
   "cell_type": "code",
   "execution_count": 6,
   "id": "3734adb3",
   "metadata": {},
   "outputs": [],
   "source": [
    "def calculate_mean(input_lst):\n",
    "  try:  \n",
    "    n= len(input_lst)\n",
    "    total_sum= sum(input_lst)\n",
    "    mean_value = total_sum/n\n",
    "    return mean_value\n",
    "  except Exception as e:\n",
    "    print(e)\n",
    "    \n"
   ]
  },
  {
   "cell_type": "code",
   "execution_count": 8,
   "id": "acad534b",
   "metadata": {},
   "outputs": [
    {
     "name": "stdout",
     "output_type": "stream",
     "text": [
      "division by zero\n",
      "None\n"
     ]
    }
   ],
   "source": [
    "print(calculate_mean([]))\n"
   ]
  },
  {
   "cell_type": "code",
   "execution_count": null,
   "id": "b7d649c2",
   "metadata": {},
   "outputs": [],
   "source": []
  }
 ],
 "metadata": {
  "kernelspec": {
   "display_name": "Python 3 (ipykernel)",
   "language": "python",
   "name": "python3"
  },
  "language_info": {
   "codemirror_mode": {
    "name": "ipython",
    "version": 3
   },
   "file_extension": ".py",
   "mimetype": "text/x-python",
   "name": "python",
   "nbconvert_exporter": "python",
   "pygments_lexer": "ipython3",
   "version": "3.10.9"
  }
 },
 "nbformat": 4,
 "nbformat_minor": 5
}
