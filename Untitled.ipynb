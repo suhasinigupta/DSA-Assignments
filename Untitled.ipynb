{
 "cells": [
  {
   "cell_type": "code",
   "execution_count": 18,
   "id": "5fc291cd",
   "metadata": {},
   "outputs": [
    {
     "name": "stdout",
     "output_type": "stream",
     "text": [
      "aidnI evoL I\n"
     ]
    }
   ],
   "source": [
    "## 1. Write a Python program to reverse a string without using any built-in string reversal functions.\n",
    "def string_reverse(old_string):\n",
    "    n=len(old_string)*(-1)\n",
    "    new_string=old_string[::-1]\n",
    "    return new_string\n",
    "\n",
    "print(string_reverse(\"I Love India\"))"
   ]
  },
  {
   "cell_type": "code",
   "execution_count": 22,
   "id": "6ee3c7fd",
   "metadata": {},
   "outputs": [
    {
     "name": "stdout",
     "output_type": "stream",
     "text": [
      "False\n"
     ]
    }
   ],
   "source": [
    "## 2. Implement a function to check if a given string is a palindrome.\n",
    "\n",
    "def check_palindrome(old_string):\n",
    "    if old_string == old_string[::-1]:\n",
    "      return True\n",
    "\n",
    "    return False\n",
    "\n",
    "print(check_palindrome(\"Palindrome\"))\n",
    "    "
   ]
  },
  {
   "cell_type": "code",
   "execution_count": 29,
   "id": "12a7d791",
   "metadata": {},
   "outputs": [
    {
     "data": {
      "text/plain": [
       "99"
      ]
     },
     "execution_count": 29,
     "metadata": {},
     "output_type": "execute_result"
    }
   ],
   "source": [
    "### 3. Write a program to find the largest element in a given list.\n",
    "def find_largest(input_list):\n",
    "    input_list.sort()\n",
    "    return input_list[-1]\n",
    "\n",
    "find_largest([1,15, 3, 2, 18, 99,5,16,17])"
   ]
  },
  {
   "cell_type": "code",
   "execution_count": 32,
   "id": "bdd459bb",
   "metadata": {},
   "outputs": [
    {
     "name": "stdout",
     "output_type": "stream",
     "text": [
      "{1: 1, 2: 1, 3: 1, 5: 1, 15: 1, 16: 1, 17: 1, 18: 1, 99: 1}\n"
     ]
    }
   ],
   "source": [
    "## 4. Implement a function to count the occurrence of each element in a list.\n",
    "def count_occurance(inp_lst):\n",
    "    dict_out= {element:inp_lst.count(element) for element in inp_lst}\n",
    "    return dict_out\n",
    "print(count_occurance([1, 2, 3, 5, 15, 16, 17, 18, 99]))"
   ]
  },
  {
   "cell_type": "code",
   "execution_count": 33,
   "id": "2a0c4d4f",
   "metadata": {},
   "outputs": [
    {
     "data": {
      "text/plain": [
       "18"
      ]
     },
     "execution_count": 33,
     "metadata": {},
     "output_type": "execute_result"
    }
   ],
   "source": [
    "## 5. Write a Python program to find the second largest number in a list.\n",
    "def find_sec_largest(input_list):\n",
    "    input_list.sort()\n",
    "    return input_list[-2]\n",
    "\n",
    "find_sec_largest([1,15, 3, 2, 18, 99,5,16,17])\n"
   ]
  },
  {
   "cell_type": "code",
   "execution_count": 37,
   "id": "bfeb3f3c",
   "metadata": {},
   "outputs": [
    {
     "data": {
      "text/plain": [
       "[1, 2, 3, 4, 5, 6, 7, 8]"
      ]
     },
     "execution_count": 37,
     "metadata": {},
     "output_type": "execute_result"
    }
   ],
   "source": [
    "## 6. Implement a function to remove duplicate elements from a list.\n",
    "\n",
    "def rem_duplicates(inp_lst):\n",
    "    new_lst= set(inp_lst)\n",
    "    return list(new_lst)\n",
    "\n",
    "rem_duplicates([1,2,3,2,3,4,4,5,6,7,8])"
   ]
  },
  {
   "cell_type": "code",
   "execution_count": 38,
   "id": "32f03228",
   "metadata": {},
   "outputs": [
    {
     "data": {
      "text/plain": [
       "120"
      ]
     },
     "execution_count": 38,
     "metadata": {},
     "output_type": "execute_result"
    }
   ],
   "source": [
    "## 7. Write a program to calculate the factorial of a given number.\n",
    "def cal_factorial(num):\n",
    "    fact= 1\n",
    "    for i in range(1, num+1):\n",
    "        fact= fact*i\n",
    "    return fact\n",
    "\n",
    "cal_factorial(5)"
   ]
  },
  {
   "cell_type": "code",
   "execution_count": 44,
   "id": "c104467f",
   "metadata": {},
   "outputs": [
    {
     "name": "stdout",
     "output_type": "stream",
     "text": [
      "False\n"
     ]
    }
   ],
   "source": [
    "## 8. Implement a function to check if a given number is prime.\n",
    "def chk_prime(num):\n",
    "    for i in range(2,num):\n",
    "        if num%i==0 :\n",
    "            return True\n",
    "            break\n",
    "    return False\n",
    "        \n",
    "        \n",
    "print(chk_prime(5))"
   ]
  },
  {
   "cell_type": "code",
   "execution_count": 46,
   "id": "7463116a",
   "metadata": {},
   "outputs": [
    {
     "data": {
      "text/plain": [
       "[2, 2, 3, 4, 13, 15, 16, 19, 91]"
      ]
     },
     "execution_count": 46,
     "metadata": {},
     "output_type": "execute_result"
    }
   ],
   "source": [
    "## 9. Write a Python program to sort a list of integers in ascending order.\n",
    "def sort_lst(input_list):\n",
    "    input_list.sort()\n",
    "    return input_list\n",
    "\n",
    "sort_lst([91,2,3,4,2,16,15,13,19])"
   ]
  },
  {
   "cell_type": "code",
   "execution_count": 47,
   "id": "9a95d0e2",
   "metadata": {},
   "outputs": [
    {
     "data": {
      "text/plain": [
       "165"
      ]
     },
     "execution_count": 47,
     "metadata": {},
     "output_type": "execute_result"
    }
   ],
   "source": [
    "## 10. Implement a function to find the sum of all numbers in a list.\n",
    "def cal_sum(inp_lst):\n",
    "    sum_lst = sum(inp_lst)\n",
    "    return sum_lst\n",
    "\n",
    "cal_sum([2, 2, 3, 4, 13, 15, 16, 19, 91])"
   ]
  },
  {
   "cell_type": "code",
   "execution_count": 49,
   "id": "085b943e",
   "metadata": {},
   "outputs": [
    {
     "data": {
      "text/plain": [
       "{2, 3, 4}"
      ]
     },
     "execution_count": 49,
     "metadata": {},
     "output_type": "execute_result"
    }
   ],
   "source": [
    "## 11. Write a program to find the common elements between two lists.\n",
    "def find_common_element(inp_lst1, inp_lst2):\n",
    "    a_set= set(inp_lst1)\n",
    "    b_set=set(inp_lst2)\n",
    "    if len(a_set.intersection(b_set)) >0 :\n",
    "        return a_set.intersection(b_set)\n",
    "    else :\n",
    "        return \"No common element\"\n",
    "    \n",
    "find_common_element([2,3,4,5,6,7], [2,3,4,1,14])\n",
    "      \n"
   ]
  },
  {
   "cell_type": "code",
   "execution_count": 51,
   "id": "16a9b4f5",
   "metadata": {},
   "outputs": [
    {
     "data": {
      "text/plain": [
       "True"
      ]
     },
     "execution_count": 51,
     "metadata": {},
     "output_type": "execute_result"
    }
   ],
   "source": [
    "## 12. Implement a function to check if a given string is an anagram of another string.\n",
    "\n",
    "def chk_anagram(str1, str2):\n",
    "    if sorted(str1)== sorted(str2) :\n",
    "        return True\n",
    "    return False\n",
    "chk_anagram(\"fried\", \"fired\")"
   ]
  },
  {
   "cell_type": "code",
   "execution_count": 52,
   "id": "4066cde6",
   "metadata": {},
   "outputs": [],
   "source": [
    "## 13. Write a Python program to generate all permutations of a given string.\n",
    "\n"
   ]
  },
  {
   "cell_type": "code",
   "execution_count": 3,
   "id": "07e19a2e",
   "metadata": {},
   "outputs": [
    {
     "data": {
      "text/plain": [
       "55"
      ]
     },
     "execution_count": 3,
     "metadata": {},
     "output_type": "execute_result"
    }
   ],
   "source": [
    "## 14. Implement a function to calculate the Fibonacci sequence up to a given number of terms.\n",
    "def cal_fibonacci(n):\n",
    "    a=0\n",
    "    b=1\n",
    "    if n<0 :\n",
    "        print(\"Enter positive number\")\n",
    "    else: \n",
    "        for i in range(2, n+1):\n",
    "            c=a+b\n",
    "            a=b\n",
    "            b=c\n",
    "        return b\n",
    "cal_fibonacci(10)"
   ]
  },
  {
   "cell_type": "code",
   "execution_count": 108,
   "id": "41e8f182",
   "metadata": {},
   "outputs": [
    {
     "data": {
      "text/plain": [
       "5"
      ]
     },
     "execution_count": 108,
     "metadata": {},
     "output_type": "execute_result"
    }
   ],
   "source": [
    "## 15. Write a program to find the median of a list of numbers.\n",
    "import statistics\n",
    "def find_median(inp_lst):\n",
    "    med= statistics.median(inp_lst)\n",
    "    return med\n",
    "find_median([3,4,5,6,7])\n",
    "    "
   ]
  },
  {
   "cell_type": "code",
   "execution_count": 7,
   "id": "04fa9709",
   "metadata": {},
   "outputs": [
    {
     "data": {
      "text/plain": [
       "False"
      ]
     },
     "execution_count": 7,
     "metadata": {},
     "output_type": "execute_result"
    }
   ],
   "source": [
    "## 16. Implement a function to check if a given list is sorted in non-decreasing order.\n",
    "def check_sorted(list1):\n",
    "    if list1==sorted(list1):\n",
    "        return True\n",
    "    return False\n",
    "\n",
    "check_sorted([1,2,4,1,5])"
   ]
  },
  {
   "cell_type": "code",
   "execution_count": 5,
   "id": "0c6ad40c",
   "metadata": {},
   "outputs": [
    {
     "data": {
      "text/plain": [
       "[1, 2, 4]"
      ]
     },
     "execution_count": 5,
     "metadata": {},
     "output_type": "execute_result"
    }
   ],
   "source": [
    "## 17. Write a Python program to find the intersection of two lists.\n",
    "def intersection(list1, list2):\n",
    "    return list(set(list1) & set(list2))\n",
    "\n",
    "intersection([1,2,3,4,5],[2,4,6,1,7])"
   ]
  },
  {
   "cell_type": "code",
   "execution_count": 57,
   "id": "38c517c7",
   "metadata": {},
   "outputs": [],
   "source": [
    "## 18. Implement a function to find the maximum subarray sum in a given list.\n"
   ]
  },
  {
   "cell_type": "code",
   "execution_count": 107,
   "id": "6b33b55e",
   "metadata": {},
   "outputs": [
    {
     "data": {
      "text/plain": [
       "'shdf'"
      ]
     },
     "execution_count": 107,
     "metadata": {},
     "output_type": "execute_result"
    }
   ],
   "source": [
    "## 19. Write a program to remove all vowels from a given string.\n",
    "def replace_vowel(str1):\n",
    "    vowel_lst= ['a','e','i','o','u']\n",
    "    out_str= ''.join([char for char in str1 if char not in vowel_lst])\n",
    "    return out_str\n",
    "\n",
    "replace_vowel('aeiouaeshdf')"
   ]
  },
  {
   "cell_type": "code",
   "execution_count": 8,
   "id": "62c00602",
   "metadata": {},
   "outputs": [
    {
     "data": {
      "text/plain": [
       "'assignments Python'"
      ]
     },
     "execution_count": 8,
     "metadata": {},
     "output_type": "execute_result"
    }
   ],
   "source": [
    "## 20. Implement a function to reverse the order of words in a given sentence.\n",
    "def rev_sentence(sentence):\n",
    "    words=sentence.split()\n",
    "    rev_words=words[:: -1]\n",
    "    rev_sent= \" \".join(rev_words)\n",
    "    return rev_sent\n",
    "rev_sentence(\"Python assignments\")"
   ]
  },
  {
   "cell_type": "code",
   "execution_count": 95,
   "id": "474a522e",
   "metadata": {},
   "outputs": [
    {
     "data": {
      "text/plain": [
       "True"
      ]
     },
     "execution_count": 95,
     "metadata": {},
     "output_type": "execute_result"
    }
   ],
   "source": [
    "## 21. Write a Python program to check if two strings are anagrams of each other.\n",
    "def chk_anagrams(str1, str2):\n",
    "    if sorted(str1)==sorted(str2):\n",
    "        return True\n",
    "    return False\n",
    "\n",
    "chk_anagrams(\"list\", \"stil\")"
   ]
  },
  {
   "cell_type": "code",
   "execution_count": 61,
   "id": "0d06cd10",
   "metadata": {},
   "outputs": [],
   "source": [
    "##22. Implement a function to find the first non-repeating character in a string.\n",
    "\n"
   ]
  },
  {
   "cell_type": "code",
   "execution_count": 62,
   "id": "f7821ea5",
   "metadata": {},
   "outputs": [],
   "source": [
    "##23. Write a program to find the prime factors of a given number.\n"
   ]
  },
  {
   "cell_type": "code",
   "execution_count": 9,
   "id": "d4445dfe",
   "metadata": {},
   "outputs": [
    {
     "name": "stdout",
     "output_type": "stream",
     "text": [
      "16 is power of 2\n"
     ]
    }
   ],
   "source": [
    "## 24. Implement a function to check if a given number is a power of two.\n",
    "def power_of_two(num):\n",
    "    if num<=0:\n",
    "        print(\"Enter positive number\")\n",
    "    elif num==1:\n",
    "        return True\n",
    "    else:\n",
    "        return (num & (num-1))==0\n",
    "    \n",
    "num=16\n",
    "if power_of_two(num):\n",
    "    print(num,\"is power of 2\")\n",
    "else:\n",
    "    print('Not a power of 2')\n"
   ]
  },
  {
   "cell_type": "code",
   "execution_count": 11,
   "id": "e2e54aea",
   "metadata": {},
   "outputs": [
    {
     "data": {
      "text/plain": [
       "[11, 12, 14, 14, 15, 16, 17, 18, 19, 20]"
      ]
     },
     "execution_count": 11,
     "metadata": {},
     "output_type": "execute_result"
    }
   ],
   "source": [
    "##25. Write a Python program to merge two sorted lists into a single sorted list.\n",
    "lst1=[12,14,15,17,19]\n",
    "lst2=[11,14,16,18,20]\n",
    "sot_lst1=sorted(lst1)\n",
    "sot_lst2=sorted(lst2)\n",
    "single_sorted=sorted(sot_lst1+ sot_lst2)\n",
    "single_sorted\n",
    "\n"
   ]
  },
  {
   "cell_type": "code",
   "execution_count": 111,
   "id": "c77d5063",
   "metadata": {},
   "outputs": [
    {
     "data": {
      "text/plain": [
       "5"
      ]
     },
     "execution_count": 111,
     "metadata": {},
     "output_type": "execute_result"
    }
   ],
   "source": [
    "##26. Implement a function to find the mode of a list of numbers.\n",
    "import statistics\n",
    "def find_mode(inp_lst):\n",
    "    mod= statistics.mode(inp_lst)\n",
    "    return mod\n",
    "\n",
    "find_mode([1,2,2,3,3,3,4,4,4,5,5,5,5,5,])"
   ]
  },
  {
   "cell_type": "code",
   "execution_count": 117,
   "id": "edc9af7a",
   "metadata": {},
   "outputs": [
    {
     "data": {
      "text/plain": [
       "12"
      ]
     },
     "execution_count": 117,
     "metadata": {},
     "output_type": "execute_result"
    }
   ],
   "source": [
    "##27. Write a program to find the greatest common divisor (GCD) of two numbers.\n",
    "def find_gcd(num1,num2):\n",
    "    min_num= min(num1,num2)\n",
    "    while min_num:\n",
    "        if num1%min_num==0 and num2%min_num==0 :\n",
    "            break\n",
    "        min_num= min_num-1\n",
    "    return min_num\n",
    "    \n",
    "find_gcd(12, 36)"
   ]
  },
  {
   "cell_type": "code",
   "execution_count": 158,
   "id": "609f8c58",
   "metadata": {},
   "outputs": [
    {
     "data": {
      "text/plain": [
       "10.0"
      ]
     },
     "execution_count": 158,
     "metadata": {},
     "output_type": "execute_result"
    }
   ],
   "source": [
    "##28. Implement a function to calculate the square root of a given number.\n",
    "import math\n",
    "def cal_square_root(num):\n",
    "   return math.sqrt(num)\n",
    "\n",
    "cal_square_root(100)\n"
   ]
  },
  {
   "cell_type": "code",
   "execution_count": 68,
   "id": "308b8441",
   "metadata": {},
   "outputs": [],
   "source": [
    "##29. Write a Python program to check if a given string is a valid palindrome ignoring non-alphanumeric characters.\n",
    "\n"
   ]
  },
  {
   "cell_type": "code",
   "execution_count": 12,
   "id": "8147af85",
   "metadata": {},
   "outputs": [
    {
     "data": {
      "text/plain": [
       "1"
      ]
     },
     "execution_count": 12,
     "metadata": {},
     "output_type": "execute_result"
    }
   ],
   "source": [
    "##30. Implement a function to find the minimum element in a rotated sorted list.\n",
    "def find_min_ele(list1):\n",
    "    min_num= min(list1)\n",
    "    return min_num\n",
    "lst=[2,3,12,1,6,18,90,35]\n",
    "find_min_ele(lst)"
   ]
  },
  {
   "cell_type": "code",
   "execution_count": 94,
   "id": "48981a4b",
   "metadata": {},
   "outputs": [
    {
     "data": {
      "text/plain": [
       "20"
      ]
     },
     "execution_count": 94,
     "metadata": {},
     "output_type": "execute_result"
    }
   ],
   "source": [
    "##31. Write a program to find the sum of all even numbers in a list.\n",
    "def cal_even_sum(inp_lst):\n",
    "    sum_inp=0\n",
    "    for num in inp_lst:\n",
    "        if num%2==0 :\n",
    "            sum_inp=sum_inp+num\n",
    "            \n",
    "    return sum_inp\n",
    "\n",
    "cal_even_sum([2,3,4,5,6,7,8])   \n"
   ]
  },
  {
   "cell_type": "code",
   "execution_count": 161,
   "id": "78318ca0",
   "metadata": {},
   "outputs": [
    {
     "data": {
      "text/plain": [
       "625"
      ]
     },
     "execution_count": 161,
     "metadata": {},
     "output_type": "execute_result"
    }
   ],
   "source": [
    "##32. Implement a function to calculate the power of a number using recursion.\n",
    "def cal_power(num,n):\n",
    "  if n==1:\n",
    "        return num\n",
    "  return num*cal_power(num,n-1)\n",
    "  \n",
    "cal_power(5, 4)    \n",
    "    \n"
   ]
  },
  {
   "cell_type": "code",
   "execution_count": 162,
   "id": "53eec8a4",
   "metadata": {},
   "outputs": [
    {
     "data": {
      "text/plain": [
       "[2, 4, 5, 6, 7, 17]"
      ]
     },
     "execution_count": 162,
     "metadata": {},
     "output_type": "execute_result"
    }
   ],
   "source": [
    "##33. Write a Python program to remove duplicates from a list while preserving the order.\n",
    "def remove_duplicates(inp_lst):\n",
    "    out_lst=[]\n",
    "    for num in inp_lst:\n",
    "        if num not in out_lst:\n",
    "            out_lst.append(num)\n",
    "    return out_lst\n",
    "           \n",
    "remove_duplicates([2,2,4,5,6,7,17,6,5])\n"
   ]
  },
  {
   "cell_type": "code",
   "execution_count": 169,
   "id": "4a945b40",
   "metadata": {},
   "outputs": [
    {
     "data": {
      "text/plain": [
       "'fl'"
      ]
     },
     "execution_count": 169,
     "metadata": {},
     "output_type": "execute_result"
    }
   ],
   "source": [
    "## 34. Implement a function to find the longest common prefix among a list of strings.\n",
    "def find_longest_prefix(inp_lst):\n",
    "    inp_lst.sort()\n",
    "    prefix=''\n",
    "    for i in range(len(inp_lst[0])):\n",
    "        if all(x[i] == inp_lst[0][i] for x in inp_lst):\n",
    "            prefix += inp_lst[0][i]\n",
    "        else:\n",
    "            break\n",
    "    return prefix\n",
    "\n",
    "find_longest_prefix([\"flower\",\"flow\",\"flight\"])  \n",
    "    \n",
    "\n"
   ]
  },
  {
   "cell_type": "code",
   "execution_count": 154,
   "id": "4231258c",
   "metadata": {},
   "outputs": [
    {
     "data": {
      "text/plain": [
       "True"
      ]
     },
     "execution_count": 154,
     "metadata": {},
     "output_type": "execute_result"
    }
   ],
   "source": [
    "##35. Write a program to check if a given number is a perfect square.\n",
    "import math\n",
    "def chk_perfect_square(num):\n",
    "    if math.ceil(math.sqrt(num))==math.floor(math.sqrt(num)):\n",
    "                 return True\n",
    "    return False\n",
    "chk_perfect_square(2500)"
   ]
  },
  {
   "cell_type": "code",
   "execution_count": 93,
   "id": "b30c2ff8",
   "metadata": {},
   "outputs": [
    {
     "data": {
      "text/plain": [
       "120"
      ]
     },
     "execution_count": 93,
     "metadata": {},
     "output_type": "execute_result"
    }
   ],
   "source": [
    "##36. Implement a function to calculate the product of all elements in a list.\n",
    "def calculate_product(lst):\n",
    "    prod=1\n",
    "    for num in lst:\n",
    "        prod=prod*num\n",
    "    return prod\n",
    "\n",
    "calculate_product([1,2,3,4,5])\n"
   ]
  },
  {
   "cell_type": "code",
   "execution_count": 149,
   "id": "a0504431",
   "metadata": {},
   "outputs": [
    {
     "data": {
      "text/plain": [
       "'I evol aidnI '"
      ]
     },
     "execution_count": 149,
     "metadata": {},
     "output_type": "execute_result"
    }
   ],
   "source": [
    "##37. Write a Python program to reverse the order of words in a sentence while preserving the word order.\n",
    "def reverse_word(sentence):\n",
    "    sent_list=sentence.split(\" \")\n",
    "    out_sent=''\n",
    "    for words in sent_list:\n",
    "         out_sent=out_sent+words[::-1]+\" \"\n",
    "    return out_sent\n",
    "\n",
    "reverse_word(\"I love India\")\n"
   ]
  },
  {
   "cell_type": "code",
   "execution_count": 177,
   "id": "91df7f49",
   "metadata": {},
   "outputs": [
    {
     "data": {
      "text/plain": [
       "4.0"
      ]
     },
     "execution_count": 177,
     "metadata": {},
     "output_type": "execute_result"
    }
   ],
   "source": [
    "##38. Implement a function to find the missing number in a given list of consecutive numbers.\n",
    "def getMissingNo(arr, N):\n",
    "    total = N*(2*arr[0]+N-1)/2\n",
    "    sum_of_A = sum(arr)\n",
    "    return  total- sum_of_A\n",
    "\n",
    "getMissingNo([1, 2, 3, 5], 5)\n"
   ]
  },
  {
   "cell_type": "code",
   "execution_count": 92,
   "id": "435f8443",
   "metadata": {},
   "outputs": [
    {
     "data": {
      "text/plain": [
       "10"
      ]
     },
     "execution_count": 92,
     "metadata": {},
     "output_type": "execute_result"
    }
   ],
   "source": [
    "##39. Write a program to find the sum of digits of a given number.\n",
    "def sum_digits(digits):\n",
    "  sum_num=0\n",
    "  while (digits!=0) : \n",
    "    sum_num=sum_num + digits%10\n",
    "    digits=int(digits/10)\n",
    "  return sum_num\n",
    "sum_digits(127)"
   ]
  },
  {
   "cell_type": "code",
   "execution_count": 133,
   "id": "715b6367",
   "metadata": {},
   "outputs": [
    {
     "data": {
      "text/plain": [
       "False"
      ]
     },
     "execution_count": 133,
     "metadata": {},
     "output_type": "execute_result"
    }
   ],
   "source": [
    "##40. Implement a function to check if a given string is a valid palindrome considering case sensitivity.\n",
    "def chk_palindrome(str1):\n",
    "    if str1== str1[::-1] :\n",
    "        return True\n",
    "    return False\n",
    "\n",
    "chk_palindrome(\"Radar\")   \n"
   ]
  },
  {
   "cell_type": "code",
   "execution_count": 80,
   "id": "27da7e99",
   "metadata": {},
   "outputs": [],
   "source": [
    "##41. Write a Python program to find the smallest missing positive integer in a list.\n",
    "def firstMissingPositive(arr, n):\n",
    " \n",
    "    # Loop to traverse the whole array\n",
    "    for i in range(n):\n",
    " \n",
    "        # Loop to check boundary\n",
    "        # condition and for swapping\n",
    "        while (arr[i] >= 1 and arr[i] <= n and arr[i] != arr[arr[i] - 1]):\n",
    "               \n",
    "            temp = arr[i]\n",
    "            arr[i] = arr[arr[i] - 1]\n",
    "            arr[temp - 1] = temp\n",
    " \n",
    "    # Checking any element which\n",
    "    # is not equal to i + 1\n",
    "    for i in range(n):\n",
    "        if (arr[i] != i + 1):\n",
    "            return i + 1\n",
    " \n",
    "    # Nothing is present return last index\n",
    "    return n + 1\n",
    "arr = [0, 10, 2, -10, -20]\n",
    "n = len(arr)\n",
    "ans = firstMissingPositive(arr, n)\n",
    "print(ans)\n",
    "\n"
   ]
  },
  {
   "cell_type": "code",
   "execution_count": 180,
   "id": "d6df1314",
   "metadata": {},
   "outputs": [
    {
     "name": "stdout",
     "output_type": "stream",
     "text": [
      "Longest palindrome substring is: geeksskeeg\n",
      "Length is: 10\n"
     ]
    }
   ],
   "source": [
    "##42. Implement a function to find the longest palindrome substring in a given string.\n",
    "def printSubStr(str, low, high):\n",
    "    for i in range(low, high + 1):\n",
    "        print(str[i], end=\"\")\n",
    " \n",
    " \n",
    "# This function prints the\n",
    "# longest palindrome subString\n",
    "# It also returns the length\n",
    "# of the longest palindrome\n",
    "def longestPalSubstr(str):\n",
    " \n",
    "    # Get length of input String\n",
    "    n = len(str)\n",
    " \n",
    "    # All subStrings of length 1\n",
    "    # are palindromes\n",
    "    maxLength = 1\n",
    "    start = 0\n",
    " \n",
    "    # Nested loop to mark start\n",
    "    # and end index\n",
    "    for i in range(n):\n",
    "        for j in range(i, n):\n",
    "            flag = 1\n",
    " \n",
    "            # Check palindrome\n",
    "            for k in range(0, ((j - i) // 2) + 1):\n",
    "                if (str[i + k] != str[j - k]):\n",
    "                    flag = 0\n",
    " \n",
    "            # Palindrome\n",
    "            if (flag != 0 and (j - i + 1) > maxLength):\n",
    "                start = i\n",
    "                maxLength = j - i + 1\n",
    " \n",
    "    print(\"Longest palindrome substring is: \", end=\"\")\n",
    "    printSubStr(str, start, start + maxLength - 1)\n",
    "    return maxLength\n",
    "\n",
    "print(\"\\nLength is:\", longestPalSubstr(\"forgeeksskeegfor\"))\n"
   ]
  },
  {
   "cell_type": "code",
   "execution_count": 87,
   "id": "a726df19",
   "metadata": {},
   "outputs": [
    {
     "data": {
      "text/plain": [
       "3"
      ]
     },
     "execution_count": 87,
     "metadata": {},
     "output_type": "execute_result"
    }
   ],
   "source": [
    "##43. Write a program to find the number of occurrences of a given element in a list.\n",
    "def find_occurance(inp_lst, element):\n",
    "    count_num=inp_lst.count(element)\n",
    "    return count_num\n",
    "\n",
    "find_occurance([1,2,3,4,5,5,6,7, 5],5)"
   ]
  },
  {
   "cell_type": "code",
   "execution_count": 127,
   "id": "5064ca21",
   "metadata": {},
   "outputs": [
    {
     "data": {
      "text/plain": [
       "True"
      ]
     },
     "execution_count": 127,
     "metadata": {},
     "output_type": "execute_result"
    }
   ],
   "source": [
    "##44. Implement a function to check if a given number is a perfect number.\n",
    "def chk_perfect(num):\n",
    "    div_lst=[1]\n",
    "    for i in range(2,num):\n",
    "        if num%i==0 :\n",
    "            div_lst.append(i)\n",
    "            \n",
    "    if sum(div_lst)== num:\n",
    "        return True\n",
    "    return False\n",
    "chk_perfect(6)"
   ]
  },
  {
   "cell_type": "code",
   "execution_count": 120,
   "id": "87fa2ce4",
   "metadata": {},
   "outputs": [
    {
     "data": {
      "text/plain": [
       "'maly'"
      ]
     },
     "execution_count": 120,
     "metadata": {},
     "output_type": "execute_result"
    }
   ],
   "source": [
    "##45. Write a Python program to remove all duplicates from a string.\n",
    "def drop_duplicates(str1):\n",
    "    out_str=''\n",
    "    for char in str1.lower():\n",
    "        if char not in out_str:\n",
    "            out_str=out_str+char\n",
    "            \n",
    "    return out_str\n",
    "drop_duplicates(\"Malayalam\")"
   ]
  },
  {
   "cell_type": "code",
   "execution_count": 182,
   "id": "8fba49c0",
   "metadata": {},
   "outputs": [
    {
     "name": "stdout",
     "output_type": "stream",
     "text": [
      "1\n"
     ]
    }
   ],
   "source": [
    "##46. Implement a function to find the first missing positive\n",
    "def firstMissingPositive(arr, n):\n",
    " \n",
    "    # Loop to traverse the whole array\n",
    "    for i in range(n):\n",
    " \n",
    "        # Loop to check boundary\n",
    "        # condition and for swapping\n",
    "        while (arr[i] >= 1 and arr[i] <= n and arr[i] != arr[arr[i] - 1]):\n",
    "               \n",
    "            temp = arr[i]\n",
    "            arr[i] = arr[arr[i] - 1]\n",
    "            arr[temp - 1] = temp\n",
    " \n",
    "    # Checking any element which\n",
    "    # is not equal to i + 1\n",
    "    for i in range(n):\n",
    "        if (arr[i] != i + 1):\n",
    "            return i + 1\n",
    " \n",
    "    # Nothing is present return last index\n",
    "    return n + 1\n",
    "arr = [0, 10, 2, -10, -20]\n",
    "n = len(arr)\n",
    "ans = firstMissingPositive(arr, n)\n",
    "print(ans)\n"
   ]
  },
  {
   "cell_type": "code",
   "execution_count": null,
   "id": "1a5ddb1e",
   "metadata": {},
   "outputs": [],
   "source": []
  }
 ],
 "metadata": {
  "kernelspec": {
   "display_name": "Python 3 (ipykernel)",
   "language": "python",
   "name": "python3"
  },
  "language_info": {
   "codemirror_mode": {
    "name": "ipython",
    "version": 3
   },
   "file_extension": ".py",
   "mimetype": "text/x-python",
   "name": "python",
   "nbconvert_exporter": "python",
   "pygments_lexer": "ipython3",
   "version": "3.10.9"
  }
 },
 "nbformat": 4,
 "nbformat_minor": 5
}
