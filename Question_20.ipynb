{
 "cells": [
  {
   "cell_type": "code",
   "execution_count": 2,
   "id": "d7b80e1a",
   "metadata": {},
   "outputs": [
    {
     "name": "stdout",
     "output_type": "stream",
     "text": [
      "0.09434977284243756 -1.8973665961010275\n"
     ]
    }
   ],
   "source": [
    "from typing import List\n",
    "from scipy import stats\n",
    "\n",
    "def perform_hypothesis_test(sample1:List, sample2:List):\n",
    "   t_val,p_val= stats.ttest_ind(sample1, sample2)\n",
    "   print(p_val, t_val)\n",
    "    \n",
    "\n",
    "perform_hypothesis_test([5,10,15,20,25],[10,20,30,40,50])    "
   ]
  },
  {
   "cell_type": "code",
   "execution_count": null,
   "id": "bf4a1103",
   "metadata": {},
   "outputs": [],
   "source": []
  }
 ],
 "metadata": {
  "kernelspec": {
   "display_name": "Python 3 (ipykernel)",
   "language": "python",
   "name": "python3"
  },
  "language_info": {
   "codemirror_mode": {
    "name": "ipython",
    "version": 3
   },
   "file_extension": ".py",
   "mimetype": "text/x-python",
   "name": "python",
   "nbconvert_exporter": "python",
   "pygments_lexer": "ipython3",
   "version": "3.10.9"
  }
 },
 "nbformat": 4,
 "nbformat_minor": 5
}
